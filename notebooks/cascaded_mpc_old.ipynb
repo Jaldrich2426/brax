{
 "cells": [
  {
   "cell_type": "markdown",
   "metadata": {
    "id": "ssCOanHc8JH_"
   },
   "source": [
    "# Training in Brax\n",
    "\n",
    "Once an environment is created in brax, we can quickly train it using brax's built-in training algorithms. Let's try it out!"
   ]
  },
  {
   "cell_type": "code",
   "execution_count": 15,
   "metadata": {},
   "outputs": [
    {
     "name": "stdout",
     "output_type": "stream",
     "text": [
      "The autoreload extension is already loaded. To reload it, use:\n",
      "  %reload_ext autoreload\n"
     ]
    }
   ],
   "source": [
    "%load_ext autoreload\n",
    "%autoreload 2"
   ]
  },
  {
   "cell_type": "code",
   "execution_count": 2,
   "metadata": {
    "executionInfo": {
     "elapsed": 22308,
     "status": "ok",
     "timestamp": 1679686324614,
     "user": {
      "displayName": "",
      "userId": ""
     },
     "user_tz": 240
    },
    "id": "kUrAlZTod7t_"
   },
   "outputs": [
    {
     "name": "stdout",
     "output_type": "stream",
     "text": [
      "loaded on NVIDIA RTX A6000 device.\n"
     ]
    }
   ],
   "source": [
    "#@markdown ## ⚠️ PLEASE NOTE:\n",
    "#@markdown This colab runs best using a GPU runtime.  From the Colab menu, choose Runtime > Change Runtime Type, then select **'GPU'** in the dropdown.\n",
    "\n",
    "import functools\n",
    "import jax\n",
    "import os\n",
    "\n",
    "from datetime import datetime\n",
    "from jax import numpy as jp\n",
    "import matplotlib.pyplot as plt\n",
    "\n",
    "from IPython.display import HTML, clear_output,display, IFrame\n",
    "\n",
    "import brax\n",
    "\n",
    "\n",
    "import flax\n",
    "from brax import envs\n",
    "from brax.io import model\n",
    "from brax.io import json\n",
    "from brax.io import html\n",
    "from brax.training.agents.ppo import train as ppo\n",
    "from brax.training.agents.sac import train as sac\n",
    "\n",
    "if 'COLAB_TPU_ADDR' in os.environ:\n",
    "  from jax.tools import colab_tpu\n",
    "  colab_tpu.setup_tpu()\n",
    "\n",
    "print(\"loaded on\", jax.devices()[0].device_kind, \"device.\")"
   ]
  },
  {
   "cell_type": "markdown",
   "metadata": {
    "id": "eoyyw6pQ3xVJ"
   },
   "source": [
    "First let's pick an environment and a backend to train an agent in. \n",
    "\n",
    "Recall from the [Brax Basics](https://github.com/google/brax/blob/main/notebooks/basics.ipynb) colab, that the backend specifies which physics engine to use, each with different trade-offs between physical realism and training throughput/speed. The engines generally decrease in physical realism but increase in speed in the following order: `generalized`,  `positional`, then `spring`.\n"
   ]
  },
  {
   "cell_type": "code",
   "execution_count": 10,
   "metadata": {
    "colab": {
     "height": 480
    },
    "executionInfo": {
     "elapsed": 6143,
     "status": "ok",
     "timestamp": 1679686333304,
     "user": {
      "displayName": "",
      "userId": ""
     },
     "user_tz": 240
    },
    "id": "4hHuDp53e4VJ",
    "outputId": "90d4c41b-9a25-4ca4-c6be-93172ea9ef57"
   },
   "outputs": [
    {
     "name": "stderr",
     "output_type": "stream",
     "text": [
      "/home/jacealdr/.local/lib/python3.10/site-packages/mujoco/mjx/_src/mesh.py:177: UserWarning: Mesh \"link1_c\" has a coplanar face with more than 20 vertices. This may lead to performance issues and inaccuracies in collision detection. Consider decimating the mesh.\n",
      "  warnings.warn(\n",
      "/home/jacealdr/.local/lib/python3.10/site-packages/mujoco/mjx/_src/mesh.py:177: UserWarning: Mesh \"link2_c\" has a coplanar face with more than 20 vertices. This may lead to performance issues and inaccuracies in collision detection. Consider decimating the mesh.\n",
      "  warnings.warn(\n"
     ]
    }
   ],
   "source": [
    "#@title Load Env { run: \"auto\" }\n",
    "\n",
    "env_name = 'franka'\n",
    "backend = 'generalized'  # @param ['generalized', 'positional', 'spring']\n",
    "\n",
    "env = envs.get_environment(env_name=env_name,\n",
    "                           backend=backend)\n",
    "state = jax.jit(env.reset)(rng=jax.random.PRNGKey(seed=0))\n",
    "\n",
    "html_file = f\"{env_name}_preview.html\"\n",
    "with open(html_file, 'w') as f:\n",
    "  f.write(html.render(env.sys, [state.pipeline_state],height=1600))\n"
   ]
  },
  {
   "cell_type": "markdown",
   "metadata": {
    "id": "GMailSDb30t-"
   },
   "source": [
    "# Training\n",
    "\n",
    "Brax provides out of the box the following training algorithms:\n",
    "\n",
    "* [Proximal policy optimization](https://github.com/google/brax/blob/main/brax/training/agents/ppo/train.py)\n",
    "* [Soft actor-critic](https://github.com/google/brax/blob/main/brax/training/agents/sac/train.py)\n",
    "* [Evolutionary strategy](https://github.com/google/brax/blob/main/brax/training/agents/es/train.py)\n",
    "* [Analytic policy gradients](https://github.com/google/brax/blob/main/brax/training/agents/apg/train.py)\n",
    "* [Augmented random search](https://github.com/google/brax/blob/main/brax/training/agents/ars/train.py)\n",
    "\n",
    "Trainers take as input an environment function and some hyperparameters, and return an inference function to operate the environment."
   ]
  },
  {
   "cell_type": "markdown",
   "metadata": {
    "id": "y3MA1UYlftuq"
   },
   "source": [
    "# Training\n",
    "\n",
    "Let's train the Ant policy using the `generalized` backend with PPO."
   ]
  },
  {
   "cell_type": "code",
   "execution_count": 15,
   "metadata": {
    "colab": {
     "height": 480
    },
    "executionInfo": {
     "elapsed": 33520,
     "status": "ok",
     "timestamp": 1679346718844,
     "user": {
      "displayName": "",
      "userId": ""
     },
     "user_tz": 240
    },
    "id": "kF5fS-yo35sI",
    "outputId": "94d1a7d5-8d6e-456c-8cfd-94a689b8808f"
   },
   "outputs": [
    {
     "name": "stderr",
     "output_type": "stream",
     "text": [
      "/home/jacealdr/.local/lib/python3.10/site-packages/mujoco/mjx/_src/mesh.py:177: UserWarning: Mesh \"link1_c\" has a coplanar face with more than 20 vertices. This may lead to performance issues and inaccuracies in collision detection. Consider decimating the mesh.\n",
      "  warnings.warn(\n",
      "/home/jacealdr/.local/lib/python3.10/site-packages/mujoco/mjx/_src/mesh.py:177: UserWarning: Mesh \"link2_c\" has a coplanar face with more than 20 vertices. This may lead to performance issues and inaccuracies in collision detection. Consider decimating the mesh.\n",
      "  warnings.warn(\n"
     ]
    }
   ],
   "source": [
    "#@title Visualizing a trajectory of the learned inference function\n",
    "\n",
    "# create an env with auto-reset\n",
    "env = envs.create(env_name=env_name, backend=backend)\n",
    "\n",
    "jit_env_reset = jax.jit(env.reset)\n",
    "jit_env_step = jax.jit(env.step)\n",
    "# jit_inference_fn = jax.jit(inference_fn)\n",
    "\n",
    "rollout = []\n",
    "rng = jax.random.PRNGKey(seed=1)\n",
    "state = jit_env_reset(rng=rng)\n",
    "for _ in range(1000):\n",
    "  rollout.append(state.pipeline_state)\n",
    "\n",
    "  # Make action decision based on state\n",
    "  act = jp.zeros(env.action_size, dtype=float)\n",
    "\n",
    "  # Step environment\n",
    "  state = jit_env_step(state, act)\n",
    "\n",
    "\n",
    "# save html to file\n",
    "html_file = f\"{env_name}.html\"\n",
    "with open(html_file, 'w') as f:\n",
    "  f.write(html.render(env.sys.tree_replace({'opt.timestep': env.dt}), rollout))"
   ]
  },
  {
   "cell_type": "markdown",
   "metadata": {
    "id": "CBtrAqns35sI"
   },
   "source": [
    "🙌 See you soon!"
   ]
  },
  {
   "cell_type": "code",
   "execution_count": 43,
   "metadata": {},
   "outputs": [
    {
     "name": "stdout",
     "output_type": "stream",
     "text": [
      "loaded on NVIDIA RTX A6000 device.\n"
     ]
    },
    {
     "name": "stderr",
     "output_type": "stream",
     "text": [
      "Exception ignored in: <bound method IPythonKernel._clean_thread_parent_frames of <ipykernel.ipkernel.IPythonKernel object at 0x7f328d3af610>>\n",
      "Traceback (most recent call last):\n",
      "  File \"/usr/local/lib/python3.10/dist-packages/ipykernel/ipkernel.py\", line 775, in _clean_thread_parent_frames\n",
      "    def _clean_thread_parent_frames(\n",
      "KeyboardInterrupt: \n"
     ]
    }
   ],
   "source": [
    "#@markdown ## ⚠️ PLEASE NOTE:\n",
    "#@markdown This colab runs best using a GPU runtime.  From the Colab menu, choose Runtime > Change Runtime Type, then select **'GPU'** in the dropdown.\n",
    "\n",
    "import functools\n",
    "import jax\n",
    "import os\n",
    "\n",
    "from datetime import datetime\n",
    "from jax import numpy as jp\n",
    "import matplotlib.pyplot as plt\n",
    "\n",
    "from IPython.display import HTML, clear_output,display, IFrame\n",
    "\n",
    "import brax\n",
    "\n",
    "\n",
    "import flax\n",
    "from brax import envs\n",
    "from brax.io import model\n",
    "from brax.io import json\n",
    "from brax.io import html\n",
    "from brax.training.agents.ppo import train as ppo\n",
    "from brax.training.agents.sac import train as sac\n",
    "\n",
    "if 'COLAB_TPU_ADDR' in os.environ:\n",
    "  from jax.tools import colab_tpu\n",
    "  colab_tpu.setup_tpu()\n",
    "\n",
    "print(\"loaded on\", jax.devices()[0].device_kind, \"device.\")\n",
    "\n",
    "#@title Visualizing a trajectory of the learned inference function\n",
    "\n",
    "# create an env with auto-reset\n",
    "env = envs.create(env_name=env_name, backend=backend)\n",
    "\n",
    "jit_env_reset = jax.jit(env.reset)\n",
    "jit_env_step = jax.jit(env.step)\n",
    "# jit_inference_fn = jax.jit(inference_fn)\n",
    "\n",
    "rollout = []\n",
    "rng = jax.random.PRNGKey(seed=1)\n",
    "state = jit_env_reset(rng=rng)\n",
    "for _ in range(1000):\n",
    "  rollout.append(state.pipeline_state)\n",
    "\n",
    "  # Make action decision based on state\n",
    "  act = jp.ones(env.action_size, dtype=float)*0.1\n",
    "\n",
    "  # Step environment\n",
    "  state = jit_env_step(state, act)\n",
    "\n",
    "\n",
    "# save html to file\n",
    "html_file = f\"{env_name}.html\"\n",
    "with open(html_file, 'w') as f:\n",
    "  f.write(html.render(env.sys.tree_replace({'opt.timestep': env.dt}), rollout))"
   ]
  },
  {
   "cell_type": "code",
   "execution_count": 17,
   "metadata": {},
   "outputs": [],
   "source": [
    "import functools\n",
    "import jax\n",
    "import os\n",
    "\n",
    "from datetime import datetime\n",
    "from jax import numpy as jp\n",
    "import matplotlib.pyplot as plt\n",
    "\n",
    "from IPython.display import HTML, clear_output,display, IFrame\n",
    "\n",
    "import brax\n",
    "\n",
    "\n",
    "import flax\n",
    "from brax import envs\n",
    "from brax.io import model\n",
    "from brax.io import json\n",
    "from brax.io import html\n",
    "from brax.training.agents.ppo import train as ppo\n",
    "from brax.training.agents.sac import train as sac\n",
    "\n",
    "\n",
    "class BraxHandler():\n",
    "\n",
    "    def __init__(self, env_name, backend,rng_seed=0):\n",
    "        self.env_name = env_name\n",
    "        self.backend = backend\n",
    "        # self.env = envs.get_environment(env_name=env_name,\n",
    "        #                                 backend=backend)\n",
    "        # self.state = jax.jit(self.env.reset)(rng=jax.random.PRNGKey(seed=0))\n",
    "\n",
    "        self.env = envs.create(env_name=env_name, backend=backend)\n",
    "        rng = jax.random.PRNGKey(seed=rng_seed)\n",
    "        self.jit_env_set_and_step = jax.jit(self.env.set_state_and_step)\n",
    "        self.jit_env_reset = jax.jit(self.env.reset)\n",
    "        self.jit_env_rng = jax.random.PRNGKey(seed=1)\n",
    "        self.init_state = self.jit_env_reset(rng=rng)\n",
    "        self.rollout=[]\n",
    "        self.rollout.append(self.init_state.pipeline_state)\n",
    "\n",
    "    def perform_step(self,input_state, act, render=False):\n",
    "        # self.rollout.append(self.init_state.pipeline_state)\n",
    "\n",
    "        # Step environment\n",
    "        state = self.jit_env_set_and_step(input_state, act)\n",
    "        if render:\n",
    "            self.rollout.append(input_state.pipeline_state)\n",
    "        return state\n",
    "\n",
    "    def get_rollout(self):\n",
    "        return self.rollout\n",
    "    \n",
    "    def save_rollout(self, filename):\n",
    "        with open(filename, 'w') as f:\n",
    "            f.write(html.render(self.env.sys.tree_replace({'opt.timestep': self.env.dt}), self.rollout))\n",
    "# for _ in range(1000):\n",
    "#   rollout.append(state.pipeline_state)\n",
    "\n",
    "#   # Make action decision based on state\n",
    "#   act = jp.zeros(env.action_size, dtype=float)\n",
    "\n",
    "#   # Step environment\n",
    "#   state = jit_env_step(state, act)\n",
    "\n",
    "\n",
    "# # save html to file\n",
    "# html_file = f\"{env_name}.html\"\n",
    "# with open(html_file, 'w') as f:\n",
    "#   f.write(html.render(env.sys.tree_replace({'opt.timestep': env.dt}), rollout))\n",
    "\n",
    "# Test the class\n",
    "env_name = 'walker2d_mpc'\n",
    "backend = 'generalized'\n",
    "brax_handler = BraxHandler(env_name, backend)\n",
    "state = brax_handler.init_state\n",
    "# init_q=brax_handler.env.sys.init_q\n",
    "# init_qd=jp.zeros_like(init_q)\n",
    "# print(state)\n",
    "for _ in range(1000):\n",
    "    act = jp.ones(brax_handler.env.action_size, dtype=float)\n",
    "    state = brax_handler.perform_step(state, act,render=True)\n",
    "    # init_q=state.pipeline_state.q\n",
    "    # init_qd=state.pipeline_state.qd\n",
    "    # print(init_q)\n",
    "brax_handler.save_rollout(f\"{env_name}_test.html\")"
   ]
  }
 ],
 "metadata": {
  "colab": {
   "provenance": [],
   "toc_visible": true
  },
  "kernelspec": {
   "display_name": "Python 3 (ipykernel)",
   "language": "python",
   "name": "python3"
  },
  "language_info": {
   "codemirror_mode": {
    "name": "ipython",
    "version": 3
   },
   "file_extension": ".py",
   "mimetype": "text/x-python",
   "name": "python",
   "nbconvert_exporter": "python",
   "pygments_lexer": "ipython3",
   "version": "3.10.12"
  }
 },
 "nbformat": 4,
 "nbformat_minor": 4
}
